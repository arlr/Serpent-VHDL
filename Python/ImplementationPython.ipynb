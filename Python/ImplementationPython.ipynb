{
 "cells": [
  {
   "cell_type": "markdown",
   "metadata": {},
   "source": [
    "# Jupyter Lab pour implémenter les fonctions de l'algorithme dans le but de créer des testsbench exhaustifs "
   ]
  },
  {
   "cell_type": "markdown",
   "metadata": {},
   "source": [
    "## Imports"
   ]
  },
  {
   "cell_type": "code",
   "execution_count": 24,
   "metadata": {},
   "outputs": [],
   "source": [
    "import multiprocessing as mltp\n",
    "from multiprocessing import Pool\n",
    "import random"
   ]
  },
  {
   "cell_type": "markdown",
   "metadata": {},
   "source": [
    "## Début"
   ]
  },
  {
   "cell_type": "code",
   "execution_count": 2,
   "metadata": {},
   "outputs": [],
   "source": [
    "var_sbox0 = \"3 8 15 1 10 6 5 11 14 13 4 2 7 0 9 12\".split(\" \")\n",
    "var_sbox1 = \"15 12 2 7 9 0 5 10 1 11 14 8 6 13 3 4\".split(\" \")\n",
    "var_sbox2 = \"8 6 7 9 3 12 10 15 13 1 14 4 0 11 5 2\".split(\" \")\n",
    "var_sbox3 = \"0 15 11 8 12 9 6 3 13 1 2 4 10 7 5 14\".split(\" \")\n",
    "var_sbox4 = \"1 15 8 3 12 0 11 6 2 5 4 10 9 14 7 13\".split(\" \")\n",
    "var_sbox5 = \"15 5 2 11 4 10 9 12 0 3 14 8 13 6 7 1\".split(\" \")\n",
    "var_sbox6 = \"7 2 12 5 8 4 6 11 14 9 1 15 13 3 10 0\".split(\" \")\n",
    "var_sbox7 = \"1 13 15 0 14 8 2 11 7 4 12 10 9 3 5 6\".split(\" \")"
   ]
  },
  {
   "cell_type": "code",
   "execution_count": 3,
   "metadata": {},
   "outputs": [],
   "source": [
    "def print_varsbox():\n",
    "    print(var_sbox0)\n",
    "    print(var_sbox1)\n",
    "    print(var_sbox2)\n",
    "    print(var_sbox3)\n",
    "    print(var_sbox4)\n",
    "    print(var_sbox5)\n",
    "    print(var_sbox6)\n",
    "    print(var_sbox7)"
   ]
  },
  {
   "cell_type": "code",
   "execution_count": 4,
   "metadata": {},
   "outputs": [
    {
     "name": "stdout",
     "output_type": "stream",
     "text": [
      "['3', '8', '15', '1', '10', '6', '5', '11', '14', '13', '4', '2', '7', '0', '9', '12']\n",
      "['15', '12', '2', '7', '9', '0', '5', '10', '1', '11', '14', '8', '6', '13', '3', '4']\n",
      "['8', '6', '7', '9', '3', '12', '10', '15', '13', '1', '14', '4', '0', '11', '5', '2']\n",
      "['0', '15', '11', '8', '12', '9', '6', '3', '13', '1', '2', '4', '10', '7', '5', '14']\n",
      "['1', '15', '8', '3', '12', '0', '11', '6', '2', '5', '4', '10', '9', '14', '7', '13']\n",
      "['15', '5', '2', '11', '4', '10', '9', '12', '0', '3', '14', '8', '13', '6', '7', '1']\n",
      "['7', '2', '12', '5', '8', '4', '6', '11', '14', '9', '1', '15', '13', '3', '10', '0']\n",
      "['1', '13', '15', '0', '14', '8', '2', '11', '7', '4', '12', '10', '9', '3', '5', '6']\n"
     ]
    }
   ],
   "source": [
    "print_varsbox()"
   ]
  },
  {
   "cell_type": "code",
   "execution_count": 5,
   "metadata": {},
   "outputs": [],
   "source": [
    "for i in range(0,16):\n",
    "    var_sbox0[i] = format(int(var_sbox0[i]),\"04b\")\n",
    "    var_sbox1[i] = format(int(var_sbox1[i]),\"04b\")\n",
    "    var_sbox2[i] = format(int(var_sbox2[i]),\"04b\")\n",
    "    var_sbox3[i] = format(int(var_sbox3[i]),\"04b\")\n",
    "    var_sbox4[i] = format(int(var_sbox4[i]),\"04b\")\n",
    "    var_sbox5[i] = format(int(var_sbox5[i]),\"04b\")\n",
    "    var_sbox6[i] = format(int(var_sbox6[i]),\"04b\")\n",
    "    var_sbox7[i] = format(int(var_sbox7[i]),\"04b\")"
   ]
  },
  {
   "cell_type": "code",
   "execution_count": 6,
   "metadata": {},
   "outputs": [
    {
     "name": "stdout",
     "output_type": "stream",
     "text": [
      "['0011', '1000', '1111', '0001', '1010', '0110', '0101', '1011', '1110', '1101', '0100', '0010', '0111', '0000', '1001', '1100']\n",
      "['1111', '1100', '0010', '0111', '1001', '0000', '0101', '1010', '0001', '1011', '1110', '1000', '0110', '1101', '0011', '0100']\n",
      "['1000', '0110', '0111', '1001', '0011', '1100', '1010', '1111', '1101', '0001', '1110', '0100', '0000', '1011', '0101', '0010']\n",
      "['0000', '1111', '1011', '1000', '1100', '1001', '0110', '0011', '1101', '0001', '0010', '0100', '1010', '0111', '0101', '1110']\n",
      "['0001', '1111', '1000', '0011', '1100', '0000', '1011', '0110', '0010', '0101', '0100', '1010', '1001', '1110', '0111', '1101']\n",
      "['1111', '0101', '0010', '1011', '0100', '1010', '1001', '1100', '0000', '0011', '1110', '1000', '1101', '0110', '0111', '0001']\n",
      "['0111', '0010', '1100', '0101', '1000', '0100', '0110', '1011', '1110', '1001', '0001', '1111', '1101', '0011', '1010', '0000']\n",
      "['0001', '1101', '1111', '0000', '1110', '1000', '0010', '1011', '0111', '0100', '1100', '1010', '1001', '0011', '0101', '0110']\n"
     ]
    }
   ],
   "source": [
    "print_varsbox()"
   ]
  },
  {
   "cell_type": "code",
   "execution_count": 7,
   "metadata": {},
   "outputs": [],
   "source": [
    "var_allSbox = [0,0,0,0,0,0,0,0]\n",
    "var_allSbox[0]=var_sbox0\n",
    "var_allSbox[1]=var_sbox1\n",
    "var_allSbox[2]=var_sbox2\n",
    "var_allSbox[3]=var_sbox3\n",
    "var_allSbox[4]=var_sbox4\n",
    "var_allSbox[5]=var_sbox5\n",
    "var_allSbox[6]=var_sbox6\n",
    "var_allSbox[7]=var_sbox7"
   ]
  },
  {
   "cell_type": "code",
   "execution_count": 8,
   "metadata": {},
   "outputs": [],
   "source": [
    "def sbox(num, indice):\n",
    "    \"\"\"\n",
    "    * Fonction equivalente à S_BoxX en VHDL\n",
    "    * Retourne la valeur de l'indice indice de la Sbox n \n",
    "    *\n",
    "    \"\"\"\n",
    "    return var_allSbox[num][indice]"
   ]
  },
  {
   "cell_type": "code",
   "execution_count": 9,
   "metadata": {},
   "outputs": [],
   "source": [
    "def sbox_medium(num, data_in):\n",
    "    \"\"\"\n",
    "    * Fonction équivalente à S_Box_MediumX en VHDL\n",
    "    * \n",
    "    *\n",
    "    \"\"\"\n",
    "    # Création des processus\n",
    "    splited = [0,0,0,0,0,0,0,0]\n",
    "    out = [0,0,0,0,0,0,0,0]\n",
    "    for i in range(0,8):\n",
    "        splited[i] = data_in[i*4:i*4+4]\n",
    "        out[i] = sbox(num, int(splited[i],2))\n",
    "    \n",
    "    #for i in range(0, len(var_allSbox))\n",
    "    #print(splited)\n",
    "    #print(\"\".join(out))\n",
    "    return \"\".join(out)"
   ]
  },
  {
   "cell_type": "code",
   "execution_count": 10,
   "metadata": {},
   "outputs": [
    {
     "name": "stdout",
     "output_type": "stream",
     "text": [
      "1234\n"
     ]
    }
   ],
   "source": [
    "len(var_allSbox)\n",
    "test = \"12340987\"\n",
    "print(test[0:4])"
   ]
  },
  {
   "cell_type": "code",
   "execution_count": 11,
   "metadata": {},
   "outputs": [
    {
     "data": {
      "text/plain": [
       "'00110100010111110000110001011101'"
      ]
     },
     "execution_count": 11,
     "metadata": {},
     "output_type": "execute_result"
    }
   ],
   "source": [
    "format(878644317, \"032b\")"
   ]
  },
  {
   "cell_type": "code",
   "execution_count": 12,
   "metadata": {},
   "outputs": [
    {
     "data": {
      "text/plain": [
       "'00011010011011000011011101100000'"
      ]
     },
     "execution_count": 12,
     "metadata": {},
     "output_type": "execute_result"
    }
   ],
   "source": [
    "sbox_medium(0,'00110100010111110000110001011101')"
   ]
  },
  {
   "cell_type": "code",
   "execution_count": 13,
   "metadata": {},
   "outputs": [
    {
     "data": {
      "text/plain": [
       "'0x345f0c5d'"
      ]
     },
     "execution_count": 13,
     "metadata": {},
     "output_type": "execute_result"
    }
   ],
   "source": [
    "hex(int(\"00110100010111110000110001011101\",2))"
   ]
  },
  {
   "cell_type": "code",
   "execution_count": 14,
   "metadata": {},
   "outputs": [
    {
     "data": {
      "text/plain": [
       "'0x1a6c3760'"
      ]
     },
     "execution_count": 14,
     "metadata": {},
     "output_type": "execute_result"
    }
   ],
   "source": [
    "hex(int(\"00011010011011000011011101100000\",2))"
   ]
  },
  {
   "cell_type": "code",
   "execution_count": 43,
   "metadata": {},
   "outputs": [],
   "source": [
    "def TB_sbox_medium(num):\n",
    "    \"\"\"\n",
    "    Génère les test pour la fonction sbox_medium\n",
    "    \"\"\"\n",
    "    chaine = \"\"\n",
    "    list_val = []\n",
    "    for i in range(0,pow(2,4)):\n",
    "        \n",
    "        val = random.randrange(0,pow(2,32))\n",
    "        while val in list_val:\n",
    "            val = random.randrange(0,pow(2,32))\n",
    "        list_val.append(val)\n",
    "        \n",
    "        val_bin = format(val,\"032b\")\n",
    "        data_out = sbox_medium(num,str(val_bin))\n",
    "        chaine = chaine + \"\"\"\n",
    "        -- data_in == {0}  \n",
    "        data_in_{2} <= \"{0:032b}\";  \n",
    "        wait for 10 ns;  \n",
    "        assert data_out_{2} = \"{1}\" report \"Assertion violation.\" severity error;\n",
    "        \n",
    "        \"\"\".format(val,data_out,num)\n",
    "    print(chaine)\n",
    "        "
   ]
  },
  {
   "cell_type": "code",
   "execution_count": 51,
   "metadata": {
    "scrolled": true
   },
   "outputs": [
    {
     "name": "stdout",
     "output_type": "stream",
     "text": [
      "\n",
      "        -- data_in == 1891536539  \n",
      "        data_in_0 <= \"01110000101111101000111010011011\";  \n",
      "        wait for 10 ns;  \n",
      "        assert data_out_0 = \"10110011001010011110100111010010\" report \"Assertion violation.\" severity error;\n",
      "        \n",
      "        \n",
      "        -- data_in == 4062069057  \n",
      "        data_in_0 <= \"11110010000111100100000101000001\";  \n",
      "        wait for 10 ns;  \n",
      "        assert data_out_0 = \"11001111100010011010100010101000\" report \"Assertion violation.\" severity error;\n",
      "        \n",
      "        \n",
      "        -- data_in == 4006976456  \n",
      "        data_in_0 <= \"11101110110101011001101111001000\";  \n",
      "        wait for 10 ns;  \n",
      "        assert data_out_0 = \"10011001000001101101001001111110\" report \"Assertion violation.\" severity error;\n",
      "        \n",
      "        \n",
      "        -- data_in == 1134329957  \n",
      "        data_in_0 <= \"01000011100111001000000001100101\";  \n",
      "        wait for 10 ns;  \n",
      "        assert data_out_0 = \"10100001110101111110001101010110\" report \"Assertion violation.\" severity error;\n",
      "        \n",
      "        \n",
      "        -- data_in == 287023919  \n",
      "        data_in_0 <= \"00010001000110111010001100101111\";  \n",
      "        wait for 10 ns;  \n",
      "        assert data_out_0 = \"10001000100000100100000111111100\" report \"Assertion violation.\" severity error;\n",
      "        \n",
      "        \n",
      "        -- data_in == 3244251404  \n",
      "        data_in_0 <= \"11000001010111110101100100001100\";  \n",
      "        wait for 10 ns;  \n",
      "        assert data_out_0 = \"01111000011011000110110100110111\" report \"Assertion violation.\" severity error;\n",
      "        \n",
      "        \n",
      "        -- data_in == 2866541182  \n",
      "        data_in_0 <= \"10101010110110111111001001111110\";  \n",
      "        wait for 10 ns;  \n",
      "        assert data_out_0 = \"01000100000000101100111110111001\" report \"Assertion violation.\" severity error;\n",
      "        \n",
      "        \n",
      "        -- data_in == 1863050395  \n",
      "        data_in_0 <= \"01101111000010111110010010011011\";  \n",
      "        wait for 10 ns;  \n",
      "        assert data_out_0 = \"01011100001100101001101011010010\" report \"Assertion violation.\" severity error;\n",
      "        \n",
      "        \n",
      "        -- data_in == 94667183  \n",
      "        data_in_0 <= \"00000101101001001000000110101111\";  \n",
      "        wait for 10 ns;  \n",
      "        assert data_out_0 = \"00110110010010101110100001001100\" report \"Assertion violation.\" severity error;\n",
      "        \n",
      "        \n",
      "        -- data_in == 590330435  \n",
      "        data_in_0 <= \"00100011001011111011101001000011\";  \n",
      "        wait for 10 ns;  \n",
      "        assert data_out_0 = \"11110001111111000010010010100001\" report \"Assertion violation.\" severity error;\n",
      "        \n",
      "        \n",
      "        -- data_in == 3511151192  \n",
      "        data_in_0 <= \"11010001010001111110101001011000\";  \n",
      "        wait for 10 ns;  \n",
      "        assert data_out_0 = \"00001000101010111001010001101110\" report \"Assertion violation.\" severity error;\n",
      "        \n",
      "        \n",
      "        -- data_in == 1908807162  \n",
      "        data_in_0 <= \"01110001110001100001010111111010\";  \n",
      "        wait for 10 ns;  \n",
      "        assert data_out_0 = \"10111000011101011000011011000100\" report \"Assertion violation.\" severity error;\n",
      "        \n",
      "        \n",
      "        -- data_in == 3229462934  \n",
      "        data_in_0 <= \"11000000011111011011000110010110\";  \n",
      "        wait for 10 ns;  \n",
      "        assert data_out_0 = \"01110011101100000010100011010101\" report \"Assertion violation.\" severity error;\n",
      "        \n",
      "        \n",
      "        -- data_in == 1853555566  \n",
      "        data_in_0 <= \"01101110011110110000001101101110\";  \n",
      "        wait for 10 ns;  \n",
      "        assert data_out_0 = \"01011001101100100011000101011001\" report \"Assertion violation.\" severity error;\n",
      "        \n",
      "        \n",
      "        -- data_in == 2656380452  \n",
      "        data_in_0 <= \"10011110010101010010011000100100\";  \n",
      "        wait for 10 ns;  \n",
      "        assert data_out_0 = \"11011001011001101111010111111010\" report \"Assertion violation.\" severity error;\n",
      "        \n",
      "        \n",
      "        -- data_in == 2757357096  \n",
      "        data_in_0 <= \"10100100010110011110111000101000\";  \n",
      "        wait for 10 ns;  \n",
      "        assert data_out_0 = \"01001010011011011001100111111110\" report \"Assertion violation.\" severity error;\n",
      "        \n",
      "        \n"
     ]
    }
   ],
   "source": [
    "TB_sbox_medium(0)"
   ]
  },
  {
   "cell_type": "code",
   "execution_count": null,
   "metadata": {},
   "outputs": [],
   "source": []
  },
  {
   "cell_type": "code",
   "execution_count": null,
   "metadata": {},
   "outputs": [],
   "source": []
  },
  {
   "cell_type": "code",
   "execution_count": null,
   "metadata": {},
   "outputs": [],
   "source": []
  },
  {
   "cell_type": "code",
   "execution_count": null,
   "metadata": {},
   "outputs": [],
   "source": []
  },
  {
   "cell_type": "code",
   "execution_count": null,
   "metadata": {},
   "outputs": [],
   "source": []
  },
  {
   "cell_type": "code",
   "execution_count": null,
   "metadata": {},
   "outputs": [],
   "source": []
  },
  {
   "cell_type": "code",
   "execution_count": null,
   "metadata": {},
   "outputs": [],
   "source": []
  },
  {
   "cell_type": "code",
   "execution_count": null,
   "metadata": {},
   "outputs": [],
   "source": []
  }
 ],
 "metadata": {
  "kernelspec": {
   "display_name": "Python 3",
   "language": "python",
   "name": "python3"
  },
  "language_info": {
   "codemirror_mode": {
    "name": "ipython",
    "version": 3
   },
   "file_extension": ".py",
   "mimetype": "text/x-python",
   "name": "python",
   "nbconvert_exporter": "python",
   "pygments_lexer": "ipython3",
   "version": "3.8.1"
  }
 },
 "nbformat": 4,
 "nbformat_minor": 4
}
